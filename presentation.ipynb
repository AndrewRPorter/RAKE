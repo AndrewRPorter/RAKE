{
 "cells": [
  {
   "cell_type": "markdown",
   "metadata": {},
   "source": [
    "# Rapid Automatic Keyword Extraction (RAKE)\n",
    "\n",
    "### **RAKE**, also known as Rapid Automatic Keyword Extraction, is a domain independent keyword extraction algorithm which tries to determine key phrases in a body of text by analyzing the frequency of word appearance and its co-occurance with other words in the text."
   ]
  },
  {
   "cell_type": "code",
   "execution_count": 2,
   "metadata": {},
   "outputs": [
    {
     "name": "stdout",
     "output_type": "stream",
     "text": [
      "[('algorithmic trading', 5.1455809491192985), ('trading volume', 4.611645658155232), ('high-frequency trading', 4.525102542802202), ('short-term positions', 4.330478263743427), ('algorithmic', 3.7368997527608343), ('positions', 3.7034757295071996), ('high-frequency traders', 3.6846659080490025), ('accumulate positions', 3.249648975853925), ('high speeds', 3.2306723362896417), ('high volumes', 3.2044223609250024), ('volume', 2.9893903454111412)]\n"
     ]
    }
   ],
   "source": [
    "from rake import Rake\n",
    "\n",
    "input_text = \"\"\n",
    "with open(\"./test_documents/high_frequency.txt\", \"r\") as f:\n",
    "    lines = f.readlines()\n",
    "    input_text = \"\".join(lines)\n",
    "\n",
    "r = Rake()\n",
    "print(r.get_phrases(input_text))"
   ]
  },
  {
   "cell_type": "code",
   "execution_count": null,
   "metadata": {},
   "outputs": [],
   "source": []
  },
  {
   "cell_type": "code",
   "execution_count": null,
   "metadata": {},
   "outputs": [],
   "source": []
  }
 ],
 "metadata": {
  "kernelspec": {
   "display_name": "Python 3",
   "language": "python",
   "name": "python3"
  },
  "language_info": {
   "codemirror_mode": {
    "name": "ipython",
    "version": 3
   },
   "file_extension": ".py",
   "mimetype": "text/x-python",
   "name": "python",
   "nbconvert_exporter": "python",
   "pygments_lexer": "ipython3",
   "version": "3.7.3"
  }
 },
 "nbformat": 4,
 "nbformat_minor": 2
}
